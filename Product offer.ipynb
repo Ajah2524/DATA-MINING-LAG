{
 "cells": [
  {
   "cell_type": "code",
   "execution_count": null,
   "metadata": {},
   "outputs": [],
   "source": [
    "# Import necessary libraries\n",
    "import pandas as pd\n",
    "\n",
    "# Define the data as a dictionary for demonstration purposes\n",
    "data = {\n",
    "    'Product_ID': [1, 2, 3, 4, 5, 6, 7, 8, 9, 10, 2, 10, 3, 6, 1],\n",
    "    'Product_Name': ['Platinum Credit Card', 'Gold Savings Account', 'High-Yield Investment Account', \n",
    "                     'Mortgage Loan', 'Auto Loan', 'Personal Loan', 'Youth Savings Account', \n",
    "                     'Retirement Investment Fund', 'Business Loan', 'Travel Credit Card',\n",
    "                     'Gold Savings Account', 'Travel Credit Card', 'High-Yield Investment Account', \n",
    "                     'Personal Loan', 'Platinum Credit Card'],\n",
    "    'Product_Type': ['Credit Card', 'Savings Account', 'Investment', 'Loan', 'Loan', 'Loan', 'Savings Account', \n",
    "                     'Investment', 'Loan', 'Credit Card', 'Savings Account', 'Credit Card', \n",
    "                     'Investment', 'Loan', 'Credit Card'],\n",
    "    'Risk_Level': ['Medium', 'Low', 'High', 'Medium', 'Medium', 'Medium', 'Low', 'High', 'Medium', 'Medium', \n",
    "                   'Low', 'Medium', 'High', 'Medium', 'Medium'],\n",
    "    'Target_Age_Group': [None, None, None, None, None, None, None, None, None, None, None, None, None, None, None],\n",
    "    'Target_Income_Group': ['Medium', 'Low', 'High', 'High', 'Medium', 'Low', 'Low', 'High', 'Medium', 'Medium', \n",
    "                            'Low', 'Medium', 'High', 'Low', 'Medium']\n",
    "}\n",
    "\n",
    "# Create a pandas DataFrame\n",
    "df = pd.DataFrame(data)\n",
    "\n",
    "# Display the first few rows of the DataFrame\n",
    "df.head()\n",
    "\n",
    "# Example: Filter products based on Risk Level\n",
    "high_risk_products = df[df['Risk_Level'] == 'High']\n",
    "high_risk_products\n",
    "\n",
    "# Example: Count the number of products in each Product Type\n",
    "product_type_count = df['Product_Type'].value_counts()\n",
    "product_type_count\n",
    "\n",
    "# Example: Group products by Risk Level and Target Income Group\n",
    "grouped_data = df.groupby(['Risk_Level', 'Target_Income_Group']).size()\n",
    "grouped_data\n",
    "\n",
    "# Example: Sorting products by Product_ID\n",
    "sorted_products = df.sort_values(by='Product_ID')\n",
    "sorted_products\n"
   ]
  }
 ],
 "metadata": {
  "language_info": {
   "name": "python"
  }
 },
 "nbformat": 4,
 "nbformat_minor": 2
}
