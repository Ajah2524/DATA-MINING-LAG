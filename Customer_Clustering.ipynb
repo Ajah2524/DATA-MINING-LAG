{
 "cells": [
  {
   "cell_type": "code",
   "execution_count": 98,
   "id": "15b6504d-7496-4398-b967-e6af05f82430",
   "metadata": {},
   "outputs": [],
   "source": [
    "import pandas as pd\n",
    "from sklearn.preprocessing import StandardScaler\n",
    "from sklearn.cluster import KMeans"
   ]
  },
  {
   "cell_type": "code",
   "execution_count": 99,
   "id": "970dd72b-d524-471a-9485-9072222f0a9e",
   "metadata": {},
   "outputs": [
    {
     "name": "stdout",
     "output_type": "stream",
     "text": [
      "Requirement already satisfied: matplotlib in c:\\users\\aleck armilla\\appdata\\local\\programs\\python\\python313\\lib\\site-packages (3.10.0)\n",
      "Requirement already satisfied: contourpy>=1.0.1 in c:\\users\\aleck armilla\\appdata\\local\\programs\\python\\python313\\lib\\site-packages (from matplotlib) (1.3.1)\n",
      "Requirement already satisfied: cycler>=0.10 in c:\\users\\aleck armilla\\appdata\\local\\programs\\python\\python313\\lib\\site-packages (from matplotlib) (0.12.1)\n",
      "Requirement already satisfied: fonttools>=4.22.0 in c:\\users\\aleck armilla\\appdata\\local\\programs\\python\\python313\\lib\\site-packages (from matplotlib) (4.55.6)\n",
      "Requirement already satisfied: kiwisolver>=1.3.1 in c:\\users\\aleck armilla\\appdata\\local\\programs\\python\\python313\\lib\\site-packages (from matplotlib) (1.4.8)\n",
      "Requirement already satisfied: numpy>=1.23 in c:\\users\\aleck armilla\\appdata\\local\\programs\\python\\python313\\lib\\site-packages (from matplotlib) (2.2.2)\n",
      "Requirement already satisfied: packaging>=20.0 in c:\\users\\aleck armilla\\appdata\\local\\programs\\python\\python313\\lib\\site-packages (from matplotlib) (24.2)\n",
      "Requirement already satisfied: pillow>=8 in c:\\users\\aleck armilla\\appdata\\local\\programs\\python\\python313\\lib\\site-packages (from matplotlib) (11.1.0)\n",
      "Requirement already satisfied: pyparsing>=2.3.1 in c:\\users\\aleck armilla\\appdata\\local\\programs\\python\\python313\\lib\\site-packages (from matplotlib) (3.2.1)\n",
      "Requirement already satisfied: python-dateutil>=2.7 in c:\\users\\aleck armilla\\appdata\\local\\programs\\python\\python313\\lib\\site-packages (from matplotlib) (2.9.0.post0)\n",
      "Requirement already satisfied: six>=1.5 in c:\\users\\aleck armilla\\appdata\\local\\programs\\python\\python313\\lib\\site-packages (from python-dateutil>=2.7->matplotlib) (1.17.0)\n"
     ]
    }
   ],
   "source": [
    "!pip install matplotlib"
   ]
  },
  {
   "cell_type": "code",
   "execution_count": 151,
   "id": "36ef132e-a2ec-4fe8-a875-f8a58b21605c",
   "metadata": {},
   "outputs": [],
   "source": [
    "import matplotlib.pyplot as plt"
   ]
  },
  {
   "cell_type": "code",
   "execution_count": 100,
   "id": "df8a109b-2fd8-409d-a7eb-f69bdde6108e",
   "metadata": {},
   "outputs": [],
   "source": [
    "data = pd.read_csv(\"Customer_Feedback_Data.csv\")"
   ]
  },
  {
   "cell_type": "code",
   "execution_count": 133,
   "id": "b02d3082-bde5-4899-a1f5-52db6959de54",
   "metadata": {},
   "outputs": [
    {
     "name": "stdout",
     "output_type": "stream",
     "text": [
      "      Customer_ID  Satisfaction_Score  Feedback_Comments  \\\n",
      "0               1                10.0     Very satisfied   \n",
      "1               2                 3.0     Very satisfied   \n",
      "2               3                10.0     Very satisfied   \n",
      "3               4                 7.0  Needs improvement   \n",
      "4               5                 8.0     Unsatisfactory   \n",
      "...           ...                 ...                ...   \n",
      "5045          757                 9.0       Good service   \n",
      "5046          969                 2.0     Unsatisfactory   \n",
      "5047          248                 4.0       Good service   \n",
      "5048           58                 4.0     Unsatisfactory   \n",
      "5049          635                 4.0     Very satisfied   \n",
      "\n",
      "      Likelihood_to_Recommend  Cluster  \n",
      "0                           9        2  \n",
      "1                           3        0  \n",
      "2                           1        1  \n",
      "3                           4        1  \n",
      "4                           7        2  \n",
      "...                       ...      ...  \n",
      "5045                        3        1  \n",
      "5046                        2        0  \n",
      "5047                        3        0  \n",
      "5048                       10        2  \n",
      "5049                        6        0  \n",
      "\n",
      "[4949 rows x 5 columns]\n"
     ]
    }
   ],
   "source": [
    "print(data.head(5050))"
   ]
  },
  {
   "cell_type": "code",
   "execution_count": 134,
   "id": "2acaa343-d712-4a73-8bbb-e05fb52394a2",
   "metadata": {},
   "outputs": [],
   "source": [
    "features = data[['Satisfaction_Score', 'Likelihood_to_Recommend']]"
   ]
  },
  {
   "cell_type": "code",
   "execution_count": 135,
   "id": "88f73c2f-9a8d-41c1-8f8a-5799a430270b",
   "metadata": {},
   "outputs": [],
   "source": [
    "scaler = StandardScaler()\n",
    "scaled_features = scaler.fit_transform(features)"
   ]
  },
  {
   "cell_type": "code",
   "execution_count": 136,
   "id": "013a5c19-8817-49b4-8681-e40503a0f9b6",
   "metadata": {},
   "outputs": [],
   "source": [
    "kmeans = KMeans(n_clusters=3, random_state=42)"
   ]
  },
  {
   "cell_type": "code",
   "execution_count": 137,
   "id": "f40d7364-12d7-4727-a28d-7909bf14a19f",
   "metadata": {},
   "outputs": [
    {
     "name": "stdout",
     "output_type": "stream",
     "text": [
      "[[ 1.19662762  1.19341358]\n",
      " [-0.7445023  -0.89309271]\n",
      " [ 1.19662762 -1.58859481]\n",
      " ...\n",
      " [-0.46719803 -0.89309271]\n",
      " [-0.46719803  1.54116463]\n",
      " [-0.46719803  0.15016043]]\n"
     ]
    }
   ],
   "source": [
    "print(scaled_features[:5050])"
   ]
  },
  {
   "cell_type": "code",
   "execution_count": 138,
   "id": "3e2aafe1-0ba2-4680-a40d-e500465442ee",
   "metadata": {},
   "outputs": [
    {
     "name": "stdout",
     "output_type": "stream",
     "text": [
      "<class 'sklearn.cluster._kmeans.KMeans'>\n"
     ]
    }
   ],
   "source": [
    "from sklearn.cluster import KMeans\n",
    "print(KMeans)"
   ]
  },
  {
   "cell_type": "code",
   "execution_count": 159,
   "id": "a357c803-8a66-4a74-8395-2c57d01babfa",
   "metadata": {},
   "outputs": [],
   "source": [
    "features = features.fillna(features.mode())"
   ]
  },
  {
   "cell_type": "code",
   "execution_count": 160,
   "id": "7dce4b60-93bb-47a0-959d-e7b1f732eea7",
   "metadata": {},
   "outputs": [
    {
     "name": "stdout",
     "output_type": "stream",
     "text": [
      "Satisfaction_Score         0\n",
      "Likelihood_to_Recommend    0\n",
      "dtype: int64\n"
     ]
    }
   ],
   "source": [
    "print(features.isnull().sum())"
   ]
  },
  {
   "cell_type": "code",
   "execution_count": 161,
   "id": "583c027c-590e-4820-b16d-65907236acc6",
   "metadata": {},
   "outputs": [],
   "source": [
    "scaler = StandardScaler()"
   ]
  },
  {
   "cell_type": "code",
   "execution_count": 162,
   "id": "03eb345f-27e5-4bb4-88d8-1edbd79ea419",
   "metadata": {},
   "outputs": [],
   "source": [
    "scaled_features = scaler.fit_transform(features)"
   ]
  },
  {
   "cell_type": "code",
   "execution_count": 163,
   "id": "b47bb3dd-13b5-4b34-8509-82467f08b02e",
   "metadata": {},
   "outputs": [],
   "source": [
    "kmeans = KMeans(n_clusters=3, random_state=42)"
   ]
  },
  {
   "cell_type": "code",
   "execution_count": 164,
   "id": "d39638e5-9e60-4e43-b53c-66f3c3c3c3c8",
   "metadata": {},
   "outputs": [],
   "source": [
    "clusters = kmeans.fit_predict(scaled_features)"
   ]
  },
  {
   "cell_type": "code",
   "execution_count": 165,
   "id": "4a2fed40-bc56-479d-8767-ac0ca0567d61",
   "metadata": {},
   "outputs": [],
   "source": [
    "data = data.dropna()"
   ]
  },
  {
   "cell_type": "code",
   "execution_count": 166,
   "id": "ed9b3617-712b-4768-9f13-2b521aa55a2c",
   "metadata": {},
   "outputs": [],
   "source": [
    "data['Cluster'] = clusters"
   ]
  },
  {
   "cell_type": "code",
   "execution_count": 167,
   "id": "fb325cbb-b078-4df0-b7d6-71415edbc6e2",
   "metadata": {},
   "outputs": [
    {
     "name": "stdout",
     "output_type": "stream",
     "text": [
      "      Customer_ID  Satisfaction_Score  Likelihood_to_Recommend  Cluster\n",
      "0               1                10.0                        9        2\n",
      "1               2                 3.0                        3        0\n",
      "2               3                10.0                        1        1\n",
      "3               4                 7.0                        4        1\n",
      "4               5                 8.0                        7        2\n",
      "...           ...                 ...                      ...      ...\n",
      "5045          757                 9.0                        3        1\n",
      "5046          969                 2.0                        2        0\n",
      "5047          248                 4.0                        3        0\n",
      "5048           58                 4.0                       10        2\n",
      "5049          635                 4.0                        6        0\n",
      "\n",
      "[4949 rows x 4 columns]\n"
     ]
    }
   ],
   "source": [
    "print(data[['Customer_ID', 'Satisfaction_Score', 'Likelihood_to_Recommend', 'Cluster']].head(5050))"
   ]
  },
  {
   "cell_type": "code",
   "execution_count": 168,
   "id": "1a349850-eae6-43be-9fbf-1f68956d3b5a",
   "metadata": {},
   "outputs": [
    {
     "name": "stdout",
     "output_type": "stream",
     "text": [
      "Cluster\n",
      "2    2137\n",
      "1    1411\n",
      "0    1401\n",
      "Name: count, dtype: int64\n"
     ]
    }
   ],
   "source": [
    "print(data['Cluster'].value_counts())"
   ]
  },
  {
   "cell_type": "code",
   "execution_count": 170,
   "id": "ef701263-e385-4154-a773-e6d87f3c821b",
   "metadata": {},
   "outputs": [],
   "source": [
    "cluster_summary = data.groupby('Cluster')[['Satisfaction_Score', 'Likelihood_to_Recommend']].mean()"
   ]
  },
  {
   "cell_type": "code",
   "execution_count": 171,
   "id": "6882ff1c-2800-4999-b006-0b1bc726b2de",
   "metadata": {},
   "outputs": [
    {
     "name": "stdout",
     "output_type": "stream",
     "text": [
      "         Satisfaction_Score  Likelihood_to_Recommend\n",
      "Cluster                                             \n",
      "0                  2.895075                 3.609565\n",
      "1                  8.474132                 3.283487\n",
      "2                  5.671970                 8.360786\n"
     ]
    }
   ],
   "source": [
    "print(cluster_summary)"
   ]
  },
  {
   "cell_type": "code",
   "execution_count": 172,
   "id": "9e83f178-e018-4ab6-ade0-1f3cf81e01f7",
   "metadata": {},
   "outputs": [
    {
     "data": {
      "image/png": "[encoded data removed]",
      "text/plain": [
       "<Figure size 640x480 with 2 Axes>"
      ]
     },
     "metadata": {},
     "output_type": "display_data"
    }
   ],
   "source": [
    "plt.scatter(data['Satisfaction_Score'], data['Likelihood_to_Recommend'], c=data['Cluster'], cmap='viridis')\n",
    "plt.xlabel('Satisfaction_Score')\n",
    "plt.ylabel('Likelihood_to_Recommend')\n",
    "plt.title('Customer_Clusters')\n",
    "plt.colorbar(label='Cluster')\n",
    "plt.show()"
   ]
  },
  {
   "cell_type": "code",
   "execution_count": 181,
   "id": "44df9c8b-d815-4c0c-bf50-c073fb5a4227",
   "metadata": {},
   "outputs": [
    {
     "data": {
      "image/png": "[encoded data removed]",
      "text/plain": [
       "<Figure size 640x480 with 1 Axes>"
      ]
     },
     "metadata": {},
     "output_type": "display_data"
    }
   ],
   "source": [
    "data['Cluster'].value_counts().plot(kind='bar', color=['yellow', 'green', 'purple'])\n",
    "plt.title('Number of Customers in Each Cluster')\n",
    "plt.xlabel('Cluster')\n",
    "plt.ylabel('Number of Customers')\n",
    "plt.show()"
   ]
  }
 ],
 "metadata": {
  "kernelspec": {
   "display_name": "Python 3 (ipykernel)",
   "language": "python",
   "name": "python3"
  },
  "language_info": {
   "codemirror_mode": {
    "name": "ipython",
    "version": 3
   },
   "file_extension": ".py",
   "mimetype": "text/x-python",
   "name": "python",
   "nbconvert_exporter": "python",
   "pygments_lexer": "ipython3",
   "version": "3.13.1"
  }
 },
 "nbformat": 4,
 "nbformat_minor": 5
}
